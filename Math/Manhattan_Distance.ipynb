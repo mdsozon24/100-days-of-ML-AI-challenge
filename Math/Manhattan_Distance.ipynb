{
  "nbformat": 4,
  "nbformat_minor": 0,
  "metadata": {
    "colab": {
      "provenance": [],
      "authorship_tag": "ABX9TyNx2amj5XUqpJoNxKAn5oSg",
      "include_colab_link": true
    },
    "kernelspec": {
      "name": "python3",
      "display_name": "Python 3"
    },
    "language_info": {
      "name": "python"
    }
  },
  "cells": [
    {
      "cell_type": "markdown",
      "metadata": {
        "id": "view-in-github",
        "colab_type": "text"
      },
      "source": [
        "<a href=\"https://colab.research.google.com/github/mdsozon24/100-days-of-ML-AI-challenge/blob/main/Math/Manhattan_Distance.ipynb\" target=\"_parent\"><img src=\"https://colab.research.google.com/assets/colab-badge.svg\" alt=\"Open In Colab\"/></a>"
      ]
    },
    {
      "cell_type": "markdown",
      "source": [
        "#Manhattan Distance without numpy"
      ],
      "metadata": {
        "id": "rK9yAmS7b6cV"
      }
    },
    {
      "cell_type": "code",
      "execution_count": null,
      "metadata": {
        "colab": {
          "base_uri": "https://localhost:8080/"
        },
        "id": "-fxal2qLbvQO",
        "outputId": "fe047f78-ba37-4f45-af21-1a7b8cf54584"
      },
      "outputs": [
        {
          "output_type": "stream",
          "name": "stdout",
          "text": [
            "The Manhattan distance between (1, 2, 3) and (4, 5, 6) is: 9\n",
            "The Manhattan distance between (10, 20) and (30, 40) is: 40\n"
          ]
        }
      ],
      "source": [
        "def manhattan_distance(point1, point2):\n",
        "\n",
        "  if len(point1) != len(point2):\n",
        "    raise ValueError(\"Points must have the same number of dimensions\")\n",
        "\n",
        "  distance = 0\n",
        "  for i in range(len(point1)):\n",
        "    distance += abs(point1[i] - point2[i])\n",
        "  return distance\n",
        "\n",
        "point_a = (1, 2, 3)\n",
        "point_b = (4, 5, 6)\n",
        "distance_ab = manhattan_distance(point_a, point_b)\n",
        "print(f\"The Manhattan distance between {point_a} and {point_b} is: {distance_ab}\")\n",
        "\n",
        "point_c = (10, 20)\n",
        "point_d = (30, 40)\n",
        "distance_cd = manhattan_distance(point_c, point_d)\n",
        "print(f\"The Manhattan distance between {point_c} and {point_d} is: {distance_cd}\")"
      ]
    },
    {
      "cell_type": "markdown",
      "source": [
        "#Manhattan Distance with numpy"
      ],
      "metadata": {
        "id": "MVa2v7SYcL6q"
      }
    },
    {
      "cell_type": "code",
      "source": [
        "import numpy as np\n",
        "\n",
        "def manhattan_distance_numpy(point1, point2):\n",
        "\n",
        "  if len(point1) != len(point2):\n",
        "    raise ValueError(\"Points must have the same number of dimensions\")\n",
        "\n",
        "  return np.sum(np.abs(np.array(point1) - np.array(point2)))\n",
        "\n",
        "point_a_np = np.array([1, 2, 3])\n",
        "point_b_np = np.array([4, 5, 6])\n",
        "distance_ab_np = manhattan_distance_numpy(point_a_np, point_b_np)\n",
        "print(f\"The Manhattan distance between {point_a_np} and {point_b_np} is: {distance_ab_np}\")\n",
        "\n",
        "point_c_np = np.array([10, 20])\n",
        "point_d_np = np.array([30, 40])\n",
        "distance_cd_np = manhattan_distance_numpy(point_c_np, point_d_np)\n",
        "print(f\"The Manhattan distance between {point_c_np} and {point_d_np} is: {distance_cd_np}\")"
      ],
      "metadata": {
        "colab": {
          "base_uri": "https://localhost:8080/"
        },
        "id": "_qrYkNLTcNc0",
        "outputId": "b987c24a-7015-4750-c969-fd62d2627f68"
      },
      "execution_count": null,
      "outputs": [
        {
          "output_type": "stream",
          "name": "stdout",
          "text": [
            "The Manhattan distance between [1 2 3] and [4 5 6] is: 9\n",
            "The Manhattan distance between [10 20] and [30 40] is: 40\n"
          ]
        }
      ]
    }
  ]
}