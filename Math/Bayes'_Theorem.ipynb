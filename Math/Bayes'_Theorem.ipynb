{
  "nbformat": 4,
  "nbformat_minor": 0,
  "metadata": {
    "colab": {
      "provenance": [],
      "authorship_tag": "ABX9TyNVlnzxaxCcF16UXBkGV18Z",
      "include_colab_link": true
    },
    "kernelspec": {
      "name": "python3",
      "display_name": "Python 3"
    },
    "language_info": {
      "name": "python"
    }
  },
  "cells": [
    {
      "cell_type": "markdown",
      "metadata": {
        "id": "view-in-github",
        "colab_type": "text"
      },
      "source": [
        "<a href=\"https://colab.research.google.com/github/mdsozon24/100-days-of-ML-AI-challenge/blob/main/Math/Bayes'_Theorem.ipynb\" target=\"_parent\"><img src=\"https://colab.research.google.com/assets/colab-badge.svg\" alt=\"Open In Colab\"/></a>"
      ]
    },
    {
      "cell_type": "markdown",
      "source": [
        "#Bayes' Theorem"
      ],
      "metadata": {
        "id": "tevixKNAs_cb"
      }
    },
    {
      "cell_type": "code",
      "execution_count": 5,
      "metadata": {
        "colab": {
          "base_uri": "https://localhost:8080/"
        },
        "id": "2UvxpJVzr1-J",
        "outputId": "acf17030-b727-4b1b-9b38-14a0834a6f1f"
      },
      "outputs": [
        {
          "output_type": "stream",
          "name": "stdout",
          "text": [
            "P(A|B) = 0.161\n"
          ]
        }
      ],
      "source": [
        "def bayes_theorem(prior_A, likelihood_B_given_A, likelihood_B_given_notA):\n",
        "\n",
        "    prior_notA = 1 - prior_A\n",
        "\n",
        "    prior_B = (likelihood_B_given_A * prior_A) + (likelihood_B_given_notA * prior_notA)\n",
        "\n",
        "    posterior_A_given_B = (likelihood_B_given_A * prior_A) / prior_B\n",
        "    return posterior_A_given_B\n",
        "\n",
        "\n",
        "# Example:\n",
        "# P(A) = 0.01 (disease prevalence)\n",
        "# P(B|A) = 0.9 (test positive if diseased)\n",
        "# P(B|~A) = 0.05 (false positive rate)\n",
        "\n",
        "P_A = 0.01\n",
        "P_B_given_A = 0.95\n",
        "P_B_given_notA = 1 - P_B_given_A\n",
        "\n",
        "result = bayes_theorem(P_A, P_B_given_A, P_B_given_notA)\n",
        "print(\"P(A|B) =\", round(result, 4))\n"
      ]
    },
    {
      "cell_type": "markdown",
      "source": [
        "#Bayes' Theorem with numpy"
      ],
      "metadata": {
        "id": "23WUGMBAtt0-"
      }
    },
    {
      "cell_type": "code",
      "source": [
        "import numpy as np\n",
        "\n",
        "def bayes_theorem_numpy(priors, likelihoods):\n",
        "\n",
        "    priors = np.array(priors)\n",
        "    likelihoods = np.array(likelihoods)\n",
        "\n",
        "    numerators = likelihoods * priors\n",
        "    denominator = np.sum(numerators)\n",
        "\n",
        "    posteriors = numerators / denominator\n",
        "    return posteriors\n",
        "\n",
        "priors = [0.01, 0.99]\n",
        "likelihoods = [0.9, 0.05]\n",
        "\n",
        "posteriors = bayes_theorem_numpy(priors, likelihoods)\n",
        "print(\"Posterior probabilities:\", np.round(posteriors, 4))\n",
        "print(\"P(Disease | Positive) =\", round(posteriors[0], 4))\n"
      ],
      "metadata": {
        "colab": {
          "base_uri": "https://localhost:8080/"
        },
        "id": "vdH98g3vtYnG",
        "outputId": "0a4de9cd-1650-4718-e4ab-f02734c061c5"
      },
      "execution_count": 2,
      "outputs": [
        {
          "output_type": "stream",
          "name": "stdout",
          "text": [
            "Posterior probabilities: [0.1538 0.8462]\n",
            "P(Disease | Positive) = 0.1538\n"
          ]
        }
      ]
    }
  ]
}