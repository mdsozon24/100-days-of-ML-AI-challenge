{
  "nbformat": 4,
  "nbformat_minor": 0,
  "metadata": {
    "colab": {
      "provenance": [],
      "authorship_tag": "ABX9TyO7VopXm2+yz4Ahxo5oOPix",
      "include_colab_link": true
    },
    "kernelspec": {
      "name": "python3",
      "display_name": "Python 3"
    },
    "language_info": {
      "name": "python"
    }
  },
  "cells": [
    {
      "cell_type": "markdown",
      "metadata": {
        "id": "view-in-github",
        "colab_type": "text"
      },
      "source": [
        "<a href=\"https://colab.research.google.com/github/mdsozon24/100-days-of-ML-AI-challenge/blob/main/Math/Covariance_and_Correlation.ipynb\" target=\"_parent\"><img src=\"https://colab.research.google.com/assets/colab-badge.svg\" alt=\"Open In Colab\"/></a>"
      ]
    },
    {
      "cell_type": "markdown",
      "source": [
        "#Covariance and Correlation"
      ],
      "metadata": {
        "id": "8n4CkhFFdL6j"
      }
    },
    {
      "cell_type": "code",
      "execution_count": null,
      "metadata": {
        "colab": {
          "base_uri": "https://localhost:8080/"
        },
        "id": "iHNqPtMUcprS",
        "outputId": "ea369171-7c52-43ed-9dcf-11e0895b57b6"
      },
      "outputs": [
        {
          "output_type": "stream",
          "name": "stdout",
          "text": [
            "Covariance: -2.5\n",
            "Correlation: -0.9999999999999998\n"
          ]
        }
      ],
      "source": [
        "def calculate_mean(data):\n",
        "  return sum(data) / len(data)\n",
        "\n",
        "def calculate_covariance(x, y):\n",
        "  if len(x) != len(y):\n",
        "    raise ValueError(\"Input lists must have the same length\")\n",
        "  n = len(x)\n",
        "  mean_x = calculate_mean(x)\n",
        "  mean_y = calculate_mean(y)\n",
        "  covariance = sum((x[i] - mean_x) * (y[i] - mean_y) for i in range(n)) / (n - 1)\n",
        "  return covariance\n",
        "\n",
        "def calculate_std_dev(data):\n",
        "  n = len(data)\n",
        "  mean = calculate_mean(data)\n",
        "  variance = sum((x - mean) ** 2 for x in data) / (n - 1)\n",
        "  return variance ** 0.5\n",
        "\n",
        "def calculate_correlation(x, y):\n",
        "  covariance = calculate_covariance(x, y)\n",
        "  std_dev_x = calculate_std_dev(x)\n",
        "  std_dev_y = calculate_std_dev(y)\n",
        "  if std_dev_x == 0 or std_dev_y == 0:\n",
        "    return 0\n",
        "  correlation = covariance / (std_dev_x * std_dev_y)\n",
        "  return correlation\n",
        "\n",
        "data_x = [1, 2, 3, 4, 5]\n",
        "data_y = [5, 4, 3, 2, 1]\n",
        "\n",
        "cov = calculate_covariance(data_x, data_y)\n",
        "cor = calculate_correlation(data_x, data_y)\n",
        "\n",
        "print(f\"Covariance: {cov}\")\n",
        "print(f\"Correlation: {cor}\")"
      ]
    },
    {
      "cell_type": "markdown",
      "source": [
        "#With Numpy"
      ],
      "metadata": {
        "id": "kZqtbsytd6Fm"
      }
    },
    {
      "cell_type": "code",
      "source": [
        "import numpy as np\n",
        "\n",
        "data_x = [1, 2, 3, 4, 5]\n",
        "data_y = [5, 4, 3, 2, 1]\n",
        "\n",
        "cov_np = np.cov(data_x, data_y)[0][1]\n",
        "\n",
        "cor_np = np.corrcoef(data_x, data_y)[0][1]\n",
        "\n",
        "print(f\"Covariance (with numpy): {cov_np}\")\n",
        "print(f\"Correlation (with numpy): {cor_np}\")"
      ],
      "metadata": {
        "colab": {
          "base_uri": "https://localhost:8080/"
        },
        "id": "mYMxb45vdnLv",
        "outputId": "b04a2c51-41e7-404e-cc2b-3773ea9b9d13"
      },
      "execution_count": null,
      "outputs": [
        {
          "output_type": "stream",
          "name": "stdout",
          "text": [
            "Covariance (with numpy): -2.5\n",
            "Correlation (with numpy): -0.9999999999999999\n"
          ]
        }
      ]
    }
  ]
}