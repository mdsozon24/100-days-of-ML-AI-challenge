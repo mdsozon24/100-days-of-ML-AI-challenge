{
  "nbformat": 4,
  "nbformat_minor": 0,
  "metadata": {
    "colab": {
      "provenance": [],
      "authorship_tag": "ABX9TyOk+P81hFtUteuWTHf1oA6G",
      "include_colab_link": true
    },
    "kernelspec": {
      "name": "python3",
      "display_name": "Python 3"
    },
    "language_info": {
      "name": "python"
    }
  },
  "cells": [
    {
      "cell_type": "markdown",
      "metadata": {
        "id": "view-in-github",
        "colab_type": "text"
      },
      "source": [
        "<a href=\"https://colab.research.google.com/github/mdsozon24/100-days-of-ML-AI-challenge/blob/main/Math/Calculus.ipynb\" target=\"_parent\"><img src=\"https://colab.research.google.com/assets/colab-badge.svg\" alt=\"Open In Colab\"/></a>"
      ]
    },
    {
      "cell_type": "markdown",
      "source": [
        "# Chain rule for backpropagation in neural networks."
      ],
      "metadata": {
        "id": "Y_sPj6fk4_hk"
      }
    },
    {
      "cell_type": "code",
      "execution_count": 4,
      "metadata": {
        "colab": {
          "base_uri": "https://localhost:8080/"
        },
        "id": "-n1NPdce49LZ",
        "outputId": "b555bb53-ebc6-4a6d-ebac-90ec8e6745b5"
      },
      "outputs": [
        {
          "output_type": "stream",
          "name": "stdout",
          "text": [
            "dz/dt = t**4*cos(t) + 4*t**3*sin(t) + 6*t + sin(2*t)\n"
          ]
        }
      ],
      "source": [
        "import sympy as sp\n",
        "\n",
        "t = sp.symbols('t')\n",
        "x, y = sp.symbols('x y')\n",
        "\n",
        "f = x**2 * y + 3*x + y**2\n",
        "\n",
        "df_dx = sp.diff(f, x)\n",
        "df_dy = sp.diff(f, y)\n",
        "\n",
        "x_t = t**2\n",
        "y_t = sp.sin(t)\n",
        "\n",
        "dx_dt = sp.diff(x_t, t)\n",
        "dy_dt = sp.diff(y_t, t)\n",
        "\n",
        "dz_dt = df_dx.subs({x: x_t, y: y_t}) * dx_dt + df_dy.subs({x: x_t, y: y_t}) * dy_dt\n",
        "\n",
        "dz_dt_simplified = sp.simplify(dz_dt)\n",
        "\n",
        "print(\"dz/dt =\", dz_dt_simplified)"
      ]
    }
  ]
}