{
  "nbformat": 4,
  "nbformat_minor": 0,
  "metadata": {
    "colab": {
      "provenance": [],
      "authorship_tag": "ABX9TyMBsDGEIaK9t+QMDSDEA+gN",
      "include_colab_link": true
    },
    "kernelspec": {
      "name": "python3",
      "display_name": "Python 3"
    },
    "language_info": {
      "name": "python"
    }
  },
  "cells": [
    {
      "cell_type": "markdown",
      "metadata": {
        "id": "view-in-github",
        "colab_type": "text"
      },
      "source": [
        "<a href=\"https://colab.research.google.com/github/mdsozon24/100-days-of-ML-AI-challenge/blob/main/Math/Gradient%2C_Partial_Derivatives%2C_Higher_Order_Derivatives_.ipynb\" target=\"_parent\"><img src=\"https://colab.research.google.com/assets/colab-badge.svg\" alt=\"Open In Colab\"/></a>"
      ]
    },
    {
      "cell_type": "markdown",
      "source": [
        "#Partial Derivative wiht scipy"
      ],
      "metadata": {
        "id": "PGWz87Z8yLZb"
      }
    },
    {
      "cell_type": "code",
      "source": [
        "import sympy as sp\n",
        "\n",
        "x, y = sp.symbols('x y')\n",
        "\n",
        "f = x**2 * y + 3*x + y**2\n",
        "\n",
        "df_dx = sp.diff(f, x)\n",
        "df_dy = sp.diff(f, y)\n",
        "\n",
        "print(\"∂f/∂x =\", df_dx)\n",
        "print(\"∂f/∂y =\", df_dy)"
      ],
      "metadata": {
        "colab": {
          "base_uri": "https://localhost:8080/"
        },
        "id": "b8V70VLxyzgX",
        "outputId": "e7ce4d7f-57a8-44a1-d290-b44bc3bcacc8"
      },
      "execution_count": 1,
      "outputs": [
        {
          "output_type": "stream",
          "name": "stdout",
          "text": [
            "∂f/∂x = 2*x*y + 3\n",
            "∂f/∂y = x**2 + 2*y\n"
          ]
        }
      ]
    },
    {
      "cell_type": "markdown",
      "source": [
        "#Gradient (vector of partial derivatives)"
      ],
      "metadata": {
        "id": "ugoPtYJKzUtd"
      }
    },
    {
      "cell_type": "code",
      "source": [
        "# Gradient = [∂f/∂x, ∂f/∂y]\n",
        "gradient = [df_dx, df_dy]\n",
        "print(\"Gradient:\", gradient)"
      ],
      "metadata": {
        "colab": {
          "base_uri": "https://localhost:8080/"
        },
        "id": "U_gTqU96zPNG",
        "outputId": "77d3d581-cddf-45a6-ba8b-7eaf4047e1c0"
      },
      "execution_count": 2,
      "outputs": [
        {
          "output_type": "stream",
          "name": "stdout",
          "text": [
            "Gradient: [2*x*y + 3, x**2 + 2*y]\n"
          ]
        }
      ]
    },
    {
      "cell_type": "markdown",
      "source": [
        "#Higher-Order Derivatives"
      ],
      "metadata": {
        "id": "nwyKrFwQzl9h"
      }
    },
    {
      "cell_type": "code",
      "source": [
        "d2f_dx2 = sp.diff(f, x, 2)   # ∂²f/∂x²\n",
        "d2f_dy2 = sp.diff(f, y, 2)   # ∂²f/∂y²\n",
        "d2f_dxdy = sp.diff(f, x, y)  # ∂²f/∂x∂y\n",
        "\n",
        "print(\"∂²f/∂x² =\", d2f_dx2)\n",
        "print(\"∂²f/∂y² =\", d2f_dy2)\n",
        "print(\"∂²f/∂x∂y =\", d2f_dxdy)"
      ],
      "metadata": {
        "colab": {
          "base_uri": "https://localhost:8080/"
        },
        "id": "XoYdCCcBzlnb",
        "outputId": "4c13e761-5dda-4802-c3e4-e2192747a546"
      },
      "execution_count": 3,
      "outputs": [
        {
          "output_type": "stream",
          "name": "stdout",
          "text": [
            "∂²f/∂x² = 2*y\n",
            "∂²f/∂y² = 2\n",
            "∂²f/∂x∂y = 2*x\n"
          ]
        }
      ]
    },
    {
      "cell_type": "markdown",
      "source": [
        "#Hessian Matrix (matrix of 2nd order partial derivatives)"
      ],
      "metadata": {
        "id": "7hm-Zn5AzzqS"
      }
    },
    {
      "cell_type": "code",
      "source": [
        "Hessian = sp.hessian(f, (x, y))\n",
        "print(\"Hessian Matrix:\\n\", Hessian)"
      ],
      "metadata": {
        "colab": {
          "base_uri": "https://localhost:8080/"
        },
        "id": "9sKHwgpDz4wK",
        "outputId": "27258f48-8231-49a9-edfc-777e812e30f2"
      },
      "execution_count": 4,
      "outputs": [
        {
          "output_type": "stream",
          "name": "stdout",
          "text": [
            "Hessian Matrix:\n",
            " Matrix([[2*y, 2*x], [2*x, 2]])\n"
          ]
        }
      ]
    }
  ]
}