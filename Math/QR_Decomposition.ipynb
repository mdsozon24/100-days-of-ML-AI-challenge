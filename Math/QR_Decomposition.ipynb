{
  "nbformat": 4,
  "nbformat_minor": 0,
  "metadata": {
    "colab": {
      "provenance": [],
      "authorship_tag": "ABX9TyPnEENnIhv36T0GevPVVEs6",
      "include_colab_link": true
    },
    "kernelspec": {
      "name": "python3",
      "display_name": "Python 3"
    },
    "language_info": {
      "name": "python"
    }
  },
  "cells": [
    {
      "cell_type": "markdown",
      "metadata": {
        "id": "view-in-github",
        "colab_type": "text"
      },
      "source": [
        "<a href=\"https://colab.research.google.com/github/mdsozon24/100-days-of-ML-AI-challenge/blob/main/Math/QR_Decomposition.ipynb\" target=\"_parent\"><img src=\"https://colab.research.google.com/assets/colab-badge.svg\" alt=\"Open In Colab\"/></a>"
      ]
    },
    {
      "cell_type": "markdown",
      "source": [
        "#QR Decomposition using Python"
      ],
      "metadata": {
        "id": "yekx-pudMS8C"
      }
    },
    {
      "cell_type": "code",
      "execution_count": 2,
      "metadata": {
        "colab": {
          "base_uri": "https://localhost:8080/"
        },
        "id": "KqklVvQqMK9m",
        "outputId": "98fa57db-f389-454a-c32e-faacb24d0176"
      },
      "outputs": [
        {
          "output_type": "stream",
          "name": "stdout",
          "text": [
            "[[1 2 4]\n",
            " [0 0 5]\n",
            " [0 3 6]]\n",
            "\n",
            "Q:\n",
            " [[ 1.  0.  0.]\n",
            " [ 0.  0. -1.]\n",
            " [ 0. -1.  0.]]\n",
            "\n",
            "\n",
            "R:\n",
            " [[ 1.  2.  4.]\n",
            " [ 0. -3. -6.]\n",
            " [ 0.  0. -5.]]\n",
            "\n",
            "True\n"
          ]
        }
      ],
      "source": [
        "import numpy as np\n",
        "\n",
        "arr = np.array([[1, 2, 4],\n",
        "                [0, 0, 5],\n",
        "                [0, 3, 6]])\n",
        "print(arr)\n",
        "\n",
        "q, r = np.linalg.qr(arr)\n",
        "print('\\nQ:\\n', q)\n",
        "print()\n",
        "print('\\nR:\\n', r)\n",
        "print()\n",
        "print(np.allclose(arr, np.dot(q, r)))"
      ]
    }
  ]
}