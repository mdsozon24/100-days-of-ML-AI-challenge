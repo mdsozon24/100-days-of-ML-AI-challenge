{
  "nbformat": 4,
  "nbformat_minor": 0,
  "metadata": {
    "colab": {
      "provenance": []
    },
    "kernelspec": {
      "name": "python3",
      "display_name": "Python 3"
    },
    "language_info": {
      "name": "python"
    }
  },
  "cells": [
    {
      "cell_type": "markdown",
      "source": [
        "#Take Input Matrix :"
      ],
      "metadata": {
        "id": "-8Rzm_0rFORF"
      }
    },
    {
      "cell_type": "code",
      "execution_count": 18,
      "metadata": {
        "id": "HbFRME6QmI9H",
        "colab": {
          "base_uri": "https://localhost:8080/"
        },
        "outputId": "241cc7e1-994b-4133-e984-fdcbc3fb285e"
      },
      "outputs": [
        {
          "output_type": "stream",
          "name": "stdout",
          "text": [
            "How many rows you want: 2\n",
            "How many columns you want: 2\n",
            "Entries the matrix row-wise:\n",
            "1\n",
            "2\n",
            "3\n",
            "4\n",
            "\n",
            "2D matrix is:\n",
            "1 2 \n",
            "3 4 \n"
          ]
        }
      ],
      "source": [
        "rows = int(input(\"How many rows you want: \"))\n",
        "col = int(input(\"How many columns you want: \"))\n",
        "\n",
        "matrix = []\n",
        "print(\"Entries the matrix row-wise:\")\n",
        "\n",
        "for i in range(rows):\n",
        "    row = []\n",
        "    for j in range(col):\n",
        "        row.append(int(input()))\n",
        "    matrix.append(row)\n",
        "\n",
        "print(\"\\n2D matrix is:\")\n",
        "\n",
        "for i in range(rows):\n",
        "    for j in range(col):\n",
        "        print(matrix[i][j], end=\" \")\n",
        "    print()"
      ]
    },
    {
      "cell_type": "markdown",
      "source": [
        "#Addition, Subtraction, Multiplication, Division of matrix"
      ],
      "metadata": {
        "id": "294ma3aKGQJV"
      }
    },
    {
      "cell_type": "code",
      "source": [
        "x = [[1, 2, 3],\n",
        "    [4, 5, 6],\n",
        "    [7, 8, 9]]\n",
        "\n",
        "y = [[9, 8, 7],\n",
        "    [6, 5, 4],\n",
        "    [3, 2, 1]]\n",
        "\n",
        "add_res = [[x[i][j] + y[i][j] for j in range(len(x[0]))] for i in range(len(x))]\n",
        "\n",
        "sub_res = [[x[i][j] - y[i][j] for j in range(len(x[0]))] for i in range(len(x))]\n",
        "\n",
        "mult_res = [[x[i][j] * y[i][j] for j in range(len(x[0]))] for i in range(len(x))]\n",
        "\n",
        "div_res = [[x[i][j] // y[i][j] for j in range(len(x[0]))] for i in range(len(x))]\n",
        "\n",
        "print(\"Matrix Addition:\")\n",
        "for row in add_res:\n",
        "    print(row)\n",
        "\n",
        "print(\"\\nMatrix Subtraction:\")\n",
        "for row in sub_res:\n",
        "    print(row)\n",
        "\n",
        "print(\"\\nMatrix Multiplication:\")\n",
        "for row in mult_res:\n",
        "    print(row)\n",
        "\n",
        "print(\"\\nMatrix Division:\")\n",
        "for row in div_res:\n",
        "    print(row)"
      ],
      "metadata": {
        "colab": {
          "base_uri": "https://localhost:8080/"
        },
        "id": "w_JhU1HmGPvD",
        "outputId": "4916c56a-2d8f-4b38-d0dd-6f88624b60f0"
      },
      "execution_count": 19,
      "outputs": [
        {
          "output_type": "stream",
          "name": "stdout",
          "text": [
            "Matrix Addition:\n",
            "[10, 10, 10]\n",
            "[10, 10, 10]\n",
            "[10, 10, 10]\n",
            "\n",
            "Matrix Subtraction:\n",
            "[-8, -6, -4]\n",
            "[-2, 0, 2]\n",
            "[4, 6, 8]\n",
            "\n",
            "Matrix Multiplication:\n",
            "[9, 16, 21]\n",
            "[24, 25, 24]\n",
            "[21, 16, 9]\n",
            "\n",
            "Matrix Division:\n",
            "[0, 0, 0]\n",
            "[0, 1, 1]\n",
            "[2, 4, 9]\n"
          ]
        }
      ]
    },
    {
      "cell_type": "markdown",
      "source": [
        "#Transpose of a Matrix\n",
        "\n",
        "x = [[1, 2, 3],\n",
        "    [4, 5, 6],\n",
        "    [7, 8, 9]]\n",
        "\n"
      ],
      "metadata": {
        "id": "9Fw-velOHqEq"
      }
    },
    {
      "cell_type": "code",
      "source": [
        "transpose = [[0]*3 for _ in range(3)]\n",
        "\n",
        "for i in range(len(x)):\n",
        "    for j in range(len(x[0])):\n",
        "        transpose[j][i] = x[i][j]\n",
        "\n",
        "for r in transpose:\n",
        "    print(r)"
      ],
      "metadata": {
        "colab": {
          "base_uri": "https://localhost:8080/"
        },
        "id": "14pDXgU_HsX_",
        "outputId": "a1db5894-e033-4fc9-9e35-ae4f2945a1a0"
      },
      "execution_count": 20,
      "outputs": [
        {
          "output_type": "stream",
          "name": "stdout",
          "text": [
            "[1, 4, 7]\n",
            "[2, 5, 8]\n",
            "[3, 6, 9]\n"
          ]
        }
      ]
    },
    {
      "cell_type": "markdown",
      "source": [
        "#NumPy Matrix Operations\n",
        "##Addition, Subtraction, Multiplication, Division of matrix"
      ],
      "metadata": {
        "id": "bFCuSKdgIC9l"
      }
    },
    {
      "cell_type": "code",
      "source": [
        "import numpy as np\n",
        "\n",
        "x = np.array([[1, 2], [4, 5]])\n",
        "y = np.array([[7, 8], [9, 10]])\n",
        "\n",
        "print(\"Addition:\\n\", np.add(x, y))\n",
        "print()\n",
        "print(\"Subtraction:\\n\", np.subtract(x, y))\n",
        "print()\n",
        "print(\"Multiplication:\\n\", np.multiply(x, y))\n",
        "print()\n",
        "print(\"Division:\\n\", np.divide(x, y))"
      ],
      "metadata": {
        "colab": {
          "base_uri": "https://localhost:8080/"
        },
        "id": "RsfCwfjHH9J1",
        "outputId": "06a9aed0-b67f-4def-fe66-dd7a20ce5504"
      },
      "execution_count": 21,
      "outputs": [
        {
          "output_type": "stream",
          "name": "stdout",
          "text": [
            "Addition:\n",
            " [[ 8 10]\n",
            " [13 15]]\n",
            "\n",
            "Subtraction:\n",
            " [[-6 -6]\n",
            " [-5 -5]]\n",
            "\n",
            "Multiplication:\n",
            " [[ 7 16]\n",
            " [36 50]]\n",
            "\n",
            "Division:\n",
            " [[0.14285714 0.25      ]\n",
            " [0.44444444 0.5       ]]\n"
          ]
        }
      ]
    },
    {
      "cell_type": "markdown",
      "source": [
        "##Dot and cross product with Matrix"
      ],
      "metadata": {
        "id": "EIMs5N86I270"
      }
    },
    {
      "cell_type": "code",
      "source": [
        "x = [[1, 2, 3], [4, 5, 6], [7, 8, 9]]\n",
        "y = [[9, 8, 7], [6, 5, 4], [3, 2, 1]]\n",
        "\n",
        "print(\"Dot Product:\\n\", np.dot(x, y))\n",
        "print()\n",
        "print(\"Cross Product:\\n\", np.cross(x, y))"
      ],
      "metadata": {
        "colab": {
          "base_uri": "https://localhost:8080/"
        },
        "id": "FSWafy47I5rA",
        "outputId": "f6ca972f-c6a5-468b-f4d3-3ea81949b77f"
      },
      "execution_count": 22,
      "outputs": [
        {
          "output_type": "stream",
          "name": "stdout",
          "text": [
            "Dot Product:\n",
            " [[ 30  24  18]\n",
            " [ 84  69  54]\n",
            " [138 114  90]]\n",
            "\n",
            "Cross Product:\n",
            " [[-10  20 -10]\n",
            " [-10  20 -10]\n",
            " [-10  20 -10]]\n"
          ]
        }
      ]
    },
    {
      "cell_type": "markdown",
      "source": [
        "##Transpose of a Matrix"
      ],
      "metadata": {
        "id": "UEQ5blrUJX6C"
      }
    },
    {
      "cell_type": "code",
      "source": [
        "matrix = [[1, 2, 3], [4, 5, 6]]\n",
        "print(np.transpose(matrix))"
      ],
      "metadata": {
        "colab": {
          "base_uri": "https://localhost:8080/"
        },
        "id": "FCqLd-25JPWR",
        "outputId": "bd8749d1-3205-45ad-a5f8-5153e118c8c4"
      },
      "execution_count": 23,
      "outputs": [
        {
          "output_type": "stream",
          "name": "stdout",
          "text": [
            "[[1 4]\n",
            " [2 5]\n",
            " [3 6]]\n"
          ]
        }
      ]
    },
    {
      "cell_type": "markdown",
      "source": [
        "##Slicing in Matrix using Numpy"
      ],
      "metadata": {
        "id": "zz1hRXW1Jfkf"
      }
    },
    {
      "cell_type": "code",
      "source": [
        "x = np.array([[6, 8, 10],\n",
        "              [9, -12, 15],\n",
        "              [12, 16, 20],\n",
        "              [15, -20, 25]])\n",
        "\n",
        "print(\"Full Matrix:\\n\", x)\n",
        "print(\"Third Row, Second Column:\", x[2:3, 1])\n",
        "print(\"Third Row, Third Column:\", x[2:3, 2])"
      ],
      "metadata": {
        "colab": {
          "base_uri": "https://localhost:8080/"
        },
        "id": "3dFfnDIFJeeu",
        "outputId": "dee68efd-5aac-43f1-fb1b-a212e79beef1"
      },
      "execution_count": 24,
      "outputs": [
        {
          "output_type": "stream",
          "name": "stdout",
          "text": [
            "Full Matrix:\n",
            " [[  6   8  10]\n",
            " [  9 -12  15]\n",
            " [ 12  16  20]\n",
            " [ 15 -20  25]]\n",
            "Third Row, Second Column: [16]\n",
            "Third Row, Third Column: [20]\n"
          ]
        }
      ]
    },
    {
      "cell_type": "markdown",
      "source": [
        "##Deleting Rows and Columns with NumPy"
      ],
      "metadata": {
        "id": "lCHsOQehKIG6"
      }
    },
    {
      "cell_type": "code",
      "source": [
        "a = np.array([[6, 8, 10],\n",
        "              [9, -12, 15],\n",
        "              [12, 16, 20],\n",
        "              [15, -20, 25]])\n",
        "\n",
        "print(\"Delete 0th Row:\\n\", np.delete(a, 0, axis=0))\n",
        "print()\n",
        "print(\"Delete 1st Columns:\\n\", np.delete(a, 1, axis=1))"
      ],
      "metadata": {
        "colab": {
          "base_uri": "https://localhost:8080/"
        },
        "id": "F5lEaFlqKF9M",
        "outputId": "7b9be696-7b08-42b4-ee94-3c684a4abff7"
      },
      "execution_count": 25,
      "outputs": [
        {
          "output_type": "stream",
          "name": "stdout",
          "text": [
            "Delete 0th Row:\n",
            " [[  9 -12  15]\n",
            " [ 12  16  20]\n",
            " [ 15 -20  25]]\n",
            "\n",
            "Delete 1st Columns:\n",
            " [[ 6 10]\n",
            " [ 9 15]\n",
            " [12 20]\n",
            " [15 25]]\n"
          ]
        }
      ]
    }
  ]
}