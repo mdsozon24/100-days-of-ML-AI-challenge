{
  "nbformat": 4,
  "nbformat_minor": 0,
  "metadata": {
    "colab": {
      "provenance": [],
      "authorship_tag": "ABX9TyPyZxgsaYHT/lzWfSMohLOc",
      "include_colab_link": true
    },
    "kernelspec": {
      "name": "python3",
      "display_name": "Python 3"
    },
    "language_info": {
      "name": "python"
    }
  },
  "cells": [
    {
      "cell_type": "markdown",
      "metadata": {
        "id": "view-in-github",
        "colab_type": "text"
      },
      "source": [
        "<a href=\"https://colab.research.google.com/github/mdsozon24/100-days-of-ML-AI-challenge/blob/main/Math/Probability_and_Statistics.ipynb\" target=\"_parent\"><img src=\"https://colab.research.google.com/assets/colab-badge.svg\" alt=\"Open In Colab\"/></a>"
      ]
    },
    {
      "cell_type": "markdown",
      "source": [
        "#Central Limit Theorem (CLT)"
      ],
      "metadata": {
        "id": "HbwaAJZ03J6t"
      }
    },
    {
      "cell_type": "code",
      "execution_count": 7,
      "metadata": {
        "colab": {
          "base_uri": "https://localhost:8080/",
          "height": 452
        },
        "id": "w4LWk9SD3I7H",
        "outputId": "03857990-fd94-4386-8079-047b41cc1afa"
      },
      "outputs": [
        {
          "output_type": "display_data",
          "data": {
            "text/plain": [
              "<Figure size 640x480 with 1 Axes>"
            ],
            "image/png": "[encoded data removed]"
          },
          "metadata": {}
        }
      ],
      "source": [
        "import numpy as np\n",
        "import matplotlib.pyplot as plt\n",
        "\n",
        "population = np.random.uniform(0, 10, 100000)\n",
        "\n",
        "sample_means = []\n",
        "n = 50\n",
        "for _ in range(1000):\n",
        "    sample = np.random.choice(population, n)\n",
        "    sample_means.append(np.mean(sample))\n",
        "\n",
        "plt.hist(sample_means, bins=30, density=True, color='skyblue', edgecolor='black')\n",
        "plt.title(\"Central Limit Theorem\")\n",
        "plt.show()"
      ]
    },
    {
      "cell_type": "markdown",
      "source": [
        "#Discrete Probability Distributions"
      ],
      "metadata": {
        "id": "LQPxX2_V3s2e"
      }
    },
    {
      "cell_type": "code",
      "source": [
        "from scipy.stats import binom\n",
        "\n",
        "n = 10\n",
        "p = 0.5\n",
        "k = 0\n",
        "\n",
        "prob = binom.pmf(k, n, p)\n",
        "print(\"P(X=0):\", prob)\n",
        "print()\n",
        "\n",
        "k_values = np.arange(0, n+1)\n",
        "pmf_values = binom.pmf(k_values, n, p)\n",
        "print(\"PMF values:\", pmf_values)"
      ],
      "metadata": {
        "colab": {
          "base_uri": "https://localhost:8080/"
        },
        "id": "CmfulGF03xXZ",
        "outputId": "f788d933-1a60-454d-9160-bc9c1a19dec1"
      },
      "execution_count": 8,
      "outputs": [
        {
          "output_type": "stream",
          "name": "stdout",
          "text": [
            "P(X=0): 0.0009765624999999989\n",
            "\n",
            "PMF values: [0.00097656 0.00976563 0.04394531 0.1171875  0.20507812 0.24609375\n",
            " 0.20507812 0.1171875  0.04394531 0.00976563 0.00097656]\n"
          ]
        }
      ]
    },
    {
      "cell_type": "markdown",
      "source": [
        "#Continuous Probability Distributions"
      ],
      "metadata": {
        "id": "ioY9i9Ca39FA"
      }
    },
    {
      "cell_type": "code",
      "source": [
        "from scipy.stats import norm\n",
        "\n",
        "mu = 0\n",
        "sigma = 1\n",
        "x = 1\n",
        "\n",
        "pdf = norm.pdf(x, mu, sigma)\n",
        "print(\"PDF at x=1:\", pdf)\n",
        "\n",
        "cdf = norm.cdf(x, mu, sigma)\n",
        "print(\"CDF at x=1:\", cdf)"
      ],
      "metadata": {
        "colab": {
          "base_uri": "https://localhost:8080/"
        },
        "id": "kGhvIXbg4B4z",
        "outputId": "2df83933-3519-4cf9-c099-98b9770e4503"
      },
      "execution_count": 9,
      "outputs": [
        {
          "output_type": "stream",
          "name": "stdout",
          "text": [
            "PDF at x=1: 0.24197072451914337\n",
            "CDF at x=1: 0.8413447460685429\n"
          ]
        }
      ]
    },
    {
      "cell_type": "markdown",
      "source": [
        "#Hypothesis Testing"
      ],
      "metadata": {
        "id": "1IVKX37g4Nne"
      }
    },
    {
      "cell_type": "code",
      "source": [
        "sample = np.array([5, 6, 7, 5, 6, 8, 7])\n",
        "mu_0 = 6\n",
        "sigma = 1.5\n",
        "n = len(sample)\n",
        "\n",
        "x_bar = np.mean(sample)\n",
        "\n",
        "z = (x_bar - mu_0) / (sigma / np.sqrt(n))\n",
        "print(\"Z-statistic:\", z)\n",
        "\n",
        "from scipy.stats import norm\n",
        "p_value = 2 * (1 - norm.cdf(abs(z)))\n",
        "print(\"p-value:\", p_value)"
      ],
      "metadata": {
        "colab": {
          "base_uri": "https://localhost:8080/"
        },
        "id": "NJ2mFA9x4Rwt",
        "outputId": "18083e54-38d7-413f-8ac1-95ac98e35749"
      },
      "execution_count": 10,
      "outputs": [
        {
          "output_type": "stream",
          "name": "stdout",
          "text": [
            "Z-statistic: 0.5039526306789694\n",
            "p-value: 0.6142946646634826\n"
          ]
        }
      ]
    },
    {
      "cell_type": "markdown",
      "source": [
        "#Confidence Intervals"
      ],
      "metadata": {
        "id": "zIziWjaj4dLB"
      }
    },
    {
      "cell_type": "code",
      "source": [
        "confidence = 0.95\n",
        "z_alpha = norm.ppf(1 - (1-confidence)/2)\n",
        "\n",
        "margin_of_error = z_alpha * (sigma / np.sqrt(n))\n",
        "ci_lower = x_bar - margin_of_error\n",
        "ci_upper = x_bar + margin_of_error\n",
        "\n",
        "print(f\"95% Confidence Interval: ({ci_lower:.2f}, {ci_upper:.2f})\")"
      ],
      "metadata": {
        "colab": {
          "base_uri": "https://localhost:8080/"
        },
        "id": "ePdjaXoV4eob",
        "outputId": "ae36e27c-853f-4e7c-b02a-37718d3aaf55"
      },
      "execution_count": 11,
      "outputs": [
        {
          "output_type": "stream",
          "name": "stdout",
          "text": [
            "95% Confidence Interval: (5.17, 7.40)\n"
          ]
        }
      ]
    }
  ]
}