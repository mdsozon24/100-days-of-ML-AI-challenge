{
  "nbformat": 4,
  "nbformat_minor": 0,
  "metadata": {
    "colab": {
      "provenance": [],
      "authorship_tag": "ABX9TyPiCyt3h7H/AOjt/xIr1dnT",
      "include_colab_link": true
    },
    "kernelspec": {
      "name": "python3",
      "display_name": "Python 3"
    },
    "language_info": {
      "name": "python"
    }
  },
  "cells": [
    {
      "cell_type": "markdown",
      "metadata": {
        "id": "view-in-github",
        "colab_type": "text"
      },
      "source": [
        "<a href=\"https://colab.research.google.com/github/mdsozon24/100-days-of-ML-AI-challenge/blob/main/Math/Singular_Value_Decomposition_(SVD).ipynb\" target=\"_parent\"><img src=\"https://colab.research.google.com/assets/colab-badge.svg\" alt=\"Open In Colab\"/></a>"
      ]
    },
    {
      "cell_type": "markdown",
      "source": [
        "#Singular Value Decomposition (SVD)"
      ],
      "metadata": {
        "id": "Zp0TU7aV2lVa"
      }
    },
    {
      "cell_type": "code",
      "execution_count": 2,
      "metadata": {
        "colab": {
          "base_uri": "https://localhost:8080/"
        },
        "id": "TbzrhD1e2gBN",
        "outputId": "3966810a-30d9-4913-f1ad-e05a4cb93dbe"
      },
      "outputs": [
        {
          "output_type": "stream",
          "name": "stdout",
          "text": [
            "Matrix U:\n",
            " [[-6.66666667e-01  7.07106781e-01]\n",
            " [-6.66666667e-01 -7.07106781e-01]\n",
            " [-3.33333333e-01  5.92577380e-18]]\n",
            "\n",
            "Singular values (Sigma):\n",
            " [4.24264069 2.        ]\n",
            "\n",
            "Matrix V^T:\n",
            " [[-0.70710678 -0.70710678]\n",
            " [ 0.70710678 -0.70710678]]\n",
            "\n",
            "Reconstructed A:\n",
            " [[3. 1.]\n",
            " [1. 3.]\n",
            " [1. 1.]]\n"
          ]
        }
      ],
      "source": [
        "import numpy as np\n",
        "\n",
        "A = np.array([[3, 1],\n",
        "              [1, 3],\n",
        "              [1, 1]], dtype=float)\n",
        "\n",
        "U, S, Vt = np.linalg.svd(A, full_matrices=False)\n",
        "\n",
        "print(\"Matrix U:\\n\", U)\n",
        "print()\n",
        "print(\"Singular values (Sigma):\\n\", S)\n",
        "print()\n",
        "print(\"Matrix V^T:\\n\", Vt)\n",
        "print()\n",
        "\n",
        "Sigma = np.diag(S)\n",
        "A_reconstructed = np.dot(U, np.dot(Sigma, Vt))\n",
        "print(\"Reconstructed A:\\n\", np.round(A_reconstructed, 4))\n"
      ]
    }
  ]
}